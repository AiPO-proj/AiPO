{
 "cells": [
  {
   "cell_type": "code",
   "execution_count": 196,
   "id": "a9b71af5-0b9f-4617-adab-1bd7d83a0282",
   "metadata": {},
   "outputs": [],
   "source": [
    "import os\n",
    "import pandas as pd\n",
    "import numpy as np\n",
    "from PIL import Image\n",
    "from sklearn.model_selection import train_test_split\n",
    "from sklearn.preprocessing import LabelEncoder\n",
    "from sklearn.utils.class_weight import compute_class_weight\n",
    "\n",
    "import torch\n",
    "import torch.nn as nn\n",
    "import torch.optim as optim\n",
    "from torchvision import models, transforms\n",
    "from torch.utils.data import Dataset, DataLoader\n",
    "from tqdm import tqdm"
   ]
  },
  {
   "cell_type": "code",
   "execution_count": 193,
   "id": "06400554-7287-4125-9dc7-475609862317",
   "metadata": {},
   "outputs": [],
   "source": [
    "import zipfile\n",
    "zip_path = 'country_dataset.zip'\n",
    "extract_dir = 'country_dataset'\n",
    "\n",
    "if not os.path.exists(extract_dir):\n",
    "    with zipfile.ZipFile(zip_path, 'r') as zip_ref:\n",
    "        zip_ref.extractall(extract_dir)"
   ]
  },
  {
   "cell_type": "code",
   "execution_count": 168,
   "id": "8f15da9f-f032-440b-8ae1-a0650a87f783",
   "metadata": {},
   "outputs": [],
   "source": [
    "# Dataset\n",
    "class CountryDataset(Dataset):\n",
    "    def __init__(self, df, transform=None):\n",
    "        self.df = df.reset_index(drop=True)\n",
    "        self.transform = transform\n",
    "        self.country_to_idx = {country: idx for idx, country in enumerate(sorted(df['country'].unique()))}\n",
    "        self.idx_to_country = {v: k for k, v in self.country_to_idx.items()}\n",
    "\n",
    "    def __len__(self):\n",
    "        return len(self.df)\n",
    "\n",
    "    def __getitem__(self, idx):\n",
    "        row = self.df.iloc[idx]\n",
    "        image_path = row['local_path']\n",
    "        image = Image.open(image_path).convert('RGB')\n",
    "        if self.transform:\n",
    "            image = self.transform(image)\n",
    "        label = self.country_to_idx[row['country']]\n",
    "        return image, label"
   ]
  },
  {
   "cell_type": "code",
   "execution_count": 169,
   "id": "02de3e1e-7f2b-41b4-84b8-711dd4ee55b2",
   "metadata": {},
   "outputs": [],
   "source": [
    "# Transformacje\n",
    "train_transform = transforms.Compose([\n",
    "    transforms.RandomResizedCrop(224, scale=(0.8, 1.0)),\n",
    "    transforms.RandomHorizontalFlip(),\n",
    "    transforms.ColorJitter(brightness=0.2, contrast=0.2, saturation=0.2),\n",
    "    transforms.ToTensor(),\n",
    "    transforms.Normalize([0.485, 0.456, 0.406], [0.229, 0.224, 0.225])\n",
    "])\n",
    "\n",
    "val_test_transform = transforms.Compose([\n",
    "    transforms.Resize((224, 224)),\n",
    "    transforms.ToTensor(),\n",
    "    transforms.Normalize([0.485, 0.456, 0.406], [0.229, 0.224, 0.225])\n",
    "])"
   ]
  },
  {
   "cell_type": "code",
   "execution_count": 194,
   "id": "0798e4f3-7024-4d3a-9cbf-466af25c07ff",
   "metadata": {},
   "outputs": [],
   "source": [
    "df = pd.read_csv('country_dataset.csv', header=None, names=['country', 'lat', 'lon', 'local_path'])\n",
    "\n",
    "BASE_FOLDER = \"country_dataset\"\n",
    "df['local_path'] = df['local_path'].str.replace(\"\\\\\", \"/\", regex=False)\n",
    "df['local_path'] = df['local_path'].apply(lambda x: os.path.join(BASE_FOLDER, x))\n",
    "\n",
    "def fix_path(path):\n",
    "    parts = path.split('/')\n",
    "    if len(parts) > 1 and parts[1].endswith('.'):\n",
    "        parts[1] = parts[1].rstrip('.')\n",
    "    return '/'.join(parts)\n",
    "\n",
    "df['local_path'] = df['local_path'].apply(fix_path)\n",
    "df = df[df['local_path'].apply(os.path.isfile)]"
   ]
  },
  {
   "cell_type": "code",
   "execution_count": 171,
   "id": "c24f7efa-731f-4460-bfca-16673e3d8c78",
   "metadata": {},
   "outputs": [],
   "source": [
    "le = LabelEncoder()\n",
    "df['label'] = le.fit_transform(df['country'])"
   ]
  },
  {
   "cell_type": "code",
   "execution_count": 172,
   "id": "c6126799-f4db-44f4-99dc-2018387dfdba",
   "metadata": {},
   "outputs": [],
   "source": [
    "counts = df['country'].value_counts()\n",
    "df = df[df['country'].isin(counts[counts > 1].index)]"
   ]
  },
  {
   "cell_type": "code",
   "execution_count": 174,
   "id": "345b6070-39d1-4f7c-97c7-b65c36603136",
   "metadata": {},
   "outputs": [],
   "source": [
    "label_counts = df['label'].value_counts()\n",
    "valid_labels = label_counts[label_counts >= 10].index\n",
    "df = df[df['label'].isin(valid_labels)]"
   ]
  },
  {
   "cell_type": "code",
   "execution_count": 177,
   "id": "02499392-1ddd-4f1f-8991-421e3c4508c1",
   "metadata": {},
   "outputs": [],
   "source": [
    "trainval_df, test_df = train_test_split(df, test_size=0.1, stratify=df['label'], random_state=42)\n",
    "train_df, val_df = train_test_split(trainval_df, test_size=0.1667, stratify=trainval_df['label'], random_state=42)"
   ]
  },
  {
   "cell_type": "code",
   "execution_count": 178,
   "id": "09223dc3-d676-43dd-ab0b-5ec704c25820",
   "metadata": {},
   "outputs": [],
   "source": [
    "batch_size = 64\n",
    "train_loader = DataLoader(CountryDataset(train_df, train_transform), batch_size=batch_size, shuffle=True)\n",
    "val_loader = DataLoader(CountryDataset(val_df, val_test_transform), batch_size=batch_size)\n",
    "test_loader = DataLoader(CountryDataset(test_df, val_test_transform), batch_size=batch_size)"
   ]
  },
  {
   "cell_type": "code",
   "execution_count": 195,
   "id": "ce1a0a1f-e00a-4f42-a213-dc3dd94dbed2",
   "metadata": {},
   "outputs": [
    {
     "name": "stdout",
     "output_type": "stream",
     "text": [
      "Rozkład klas:\n",
      "country\n",
      "Vietnam      100\n",
      "Palestine    100\n",
      "Vanuatu      100\n",
      "Taiwan       100\n",
      "Denmark      100\n",
      "            ... \n",
      "Iran           5\n",
      "Argentina      4\n",
      "Syria          1\n",
      "Ukraine        1\n",
      "S. Sudan       1\n",
      "Name: count, Length: 158, dtype: int64\n"
     ]
    }
   ],
   "source": [
    "print(\"Rozkład klas:\")\n",
    "print(df['country'].value_counts())"
   ]
  },
  {
   "cell_type": "code",
   "execution_count": 180,
   "id": "585d590b-6818-4db9-95cf-17136f5b6f00",
   "metadata": {},
   "outputs": [],
   "source": [
    "class GeoGuessCountryClassifier(nn.Module):\n",
    "    def __init__(self, num_classes):\n",
    "        super().__init__()\n",
    "        self.model = models.resnet18(pretrained=True)\n",
    "        for param in self.model.parameters():\n",
    "            param.requires_grad = True\n",
    "        self.model.fc = nn.Sequential(\n",
    "            nn.Dropout(0.4),\n",
    "            nn.Linear(self.model.fc.in_features, num_classes)\n",
    "        )\n",
    "\n",
    "    def forward(self, x):\n",
    "        return self.model(x)"
   ]
  },
  {
   "cell_type": "code",
   "execution_count": 181,
   "id": "d6a5ecac-1e5b-4f3b-b305-c6d59112332e",
   "metadata": {},
   "outputs": [
    {
     "name": "stderr",
     "output_type": "stream",
     "text": [
      "/home/anaconda/miniconda3/envs/monai_hface_accelerate/lib/python3.11/site-packages/torchvision/models/_utils.py:208: UserWarning: The parameter 'pretrained' is deprecated since 0.13 and may be removed in the future, please use 'weights' instead.\n",
      "  warnings.warn(\n",
      "/home/anaconda/miniconda3/envs/monai_hface_accelerate/lib/python3.11/site-packages/torchvision/models/_utils.py:223: UserWarning: Arguments other than a weight enum or `None` for 'weights' are deprecated since 0.13 and may be removed in the future. The current behavior is equivalent to passing `weights=ResNet18_Weights.IMAGENET1K_V1`. You can also use `weights=ResNet18_Weights.DEFAULT` to get the most up-to-date weights.\n",
      "  warnings.warn(msg)\n"
     ]
    }
   ],
   "source": [
    "device = torch.device('cuda' if torch.cuda.is_available() else 'cpu')\n",
    "model = GeoGuessCountryClassifier(num_classes=len(le.classes_)).to(device)"
   ]
  },
  {
   "cell_type": "code",
   "execution_count": 182,
   "id": "69237351-5aa9-4f8a-99a5-62c4bf3420fd",
   "metadata": {},
   "outputs": [],
   "source": [
    "class_weights = compute_class_weight(\n",
    "    class_weight='balanced',\n",
    "    classes=np.unique(df_train['label']),\n",
    "    y=df_train['label']\n",
    ")\n",
    "weights = torch.zeros(len(le.classes_), dtype=torch.float)"
   ]
  },
  {
   "cell_type": "code",
   "execution_count": 183,
   "id": "4859bee2-7df8-450e-9a15-18da4aa60a35",
   "metadata": {},
   "outputs": [],
   "source": [
    "for cls, w in zip(np.unique(df_train['label']), class_weights):\n",
    "    weights[cls] = w\n",
    "\n",
    "weights = weights.to(device)\n",
    "criterion = nn.CrossEntropyLoss(weight=weights.to(device))\n",
    "optimizer = optim.Adam(model.parameters(), lr=1e-4, weight_decay=1e-4)\n",
    "scheduler = optim.lr_scheduler.StepLR(optimizer, step_size=3, gamma=0.5)"
   ]
  },
  {
   "cell_type": "code",
   "execution_count": 184,
   "id": "23b9c210-a83b-4220-b649-69b9978d15c9",
   "metadata": {},
   "outputs": [],
   "source": [
    "# Trening\n",
    "def train_epoch(model, loader, criterion, optimizer, device):\n",
    "    model.train()\n",
    "    running_loss, correct, total = 0.0, 0, 0\n",
    "    for inputs, labels in tqdm(loader, desc=\"Training\"):\n",
    "        inputs, labels = inputs.to(device), labels.to(device)\n",
    "        optimizer.zero_grad()\n",
    "        outputs = model(inputs)\n",
    "        loss = criterion(outputs, labels)\n",
    "        loss.backward()\n",
    "        optimizer.step()\n",
    "\n",
    "        running_loss += loss.item() * inputs.size(0)\n",
    "        _, predicted = outputs.max(1)\n",
    "        correct += predicted.eq(labels).sum().item()\n",
    "        total += labels.size(0)\n",
    "    return running_loss / total, correct / total"
   ]
  },
  {
   "cell_type": "code",
   "execution_count": 185,
   "id": "02d12969-f3b3-4505-9f1a-b8a33aff09ba",
   "metadata": {},
   "outputs": [],
   "source": [
    "def eval_epoch(model, loader, criterion, device):\n",
    "    model.eval()\n",
    "    running_loss, correct, total = 0.0, 0, 0\n",
    "    with torch.no_grad():\n",
    "        for inputs, labels in loader:\n",
    "            inputs, labels = inputs.to(device), labels.to(device)\n",
    "            outputs = model(inputs)\n",
    "            loss = criterion(outputs, labels)\n",
    "\n",
    "            running_loss += loss.item() * inputs.size(0)\n",
    "            _, predicted = outputs.max(1)\n",
    "            correct += predicted.eq(labels).sum().item()\n",
    "            total += labels.size(0)\n",
    "    return running_loss / total, correct / total"
   ]
  },
  {
   "cell_type": "code",
   "execution_count": 189,
   "id": "b5e1a70d-ea0e-4485-a1bd-e1e96135d34d",
   "metadata": {},
   "outputs": [
    {
     "name": "stderr",
     "output_type": "stream",
     "text": [
      "Training: 100%|██████████| 145/145 [01:27<00:00,  1.66it/s]\n"
     ]
    },
    {
     "name": "stdout",
     "output_type": "stream",
     "text": [
      "Epoch 1/10: Train loss=0.9413, acc=0.7071 | Val loss=1.7622, acc=0.5291\n"
     ]
    },
    {
     "name": "stderr",
     "output_type": "stream",
     "text": [
      "Training: 100%|██████████| 145/145 [01:27<00:00,  1.67it/s]\n"
     ]
    },
    {
     "name": "stdout",
     "output_type": "stream",
     "text": [
      "Epoch 2/10: Train loss=0.8984, acc=0.7182 | Val loss=1.7609, acc=0.5286\n"
     ]
    },
    {
     "name": "stderr",
     "output_type": "stream",
     "text": [
      "Training: 100%|██████████| 145/145 [01:28<00:00,  1.65it/s]\n"
     ]
    },
    {
     "name": "stdout",
     "output_type": "stream",
     "text": [
      "Epoch 3/10: Train loss=0.8637, acc=0.7293 | Val loss=1.7474, acc=0.5302\n"
     ]
    },
    {
     "name": "stderr",
     "output_type": "stream",
     "text": [
      "Training: 100%|██████████| 145/145 [01:26<00:00,  1.67it/s]\n"
     ]
    },
    {
     "name": "stdout",
     "output_type": "stream",
     "text": [
      "Epoch 4/10: Train loss=0.8473, acc=0.7339 | Val loss=1.7380, acc=0.5334\n"
     ]
    },
    {
     "name": "stderr",
     "output_type": "stream",
     "text": [
      "Training: 100%|██████████| 145/145 [01:27<00:00,  1.65it/s]\n"
     ]
    },
    {
     "name": "stdout",
     "output_type": "stream",
     "text": [
      "Epoch 5/10: Train loss=0.8212, acc=0.7399 | Val loss=1.7389, acc=0.5366\n"
     ]
    },
    {
     "name": "stderr",
     "output_type": "stream",
     "text": [
      "Training: 100%|██████████| 145/145 [01:27<00:00,  1.67it/s]\n"
     ]
    },
    {
     "name": "stdout",
     "output_type": "stream",
     "text": [
      "Epoch 6/10: Train loss=0.8086, acc=0.7461 | Val loss=1.7254, acc=0.5361\n"
     ]
    },
    {
     "name": "stderr",
     "output_type": "stream",
     "text": [
      "Training: 100%|██████████| 145/145 [01:26<00:00,  1.67it/s]\n"
     ]
    },
    {
     "name": "stdout",
     "output_type": "stream",
     "text": [
      "Epoch 7/10: Train loss=0.7954, acc=0.7464 | Val loss=1.7329, acc=0.5377\n"
     ]
    },
    {
     "name": "stderr",
     "output_type": "stream",
     "text": [
      "Training: 100%|██████████| 145/145 [01:27<00:00,  1.66it/s]\n"
     ]
    },
    {
     "name": "stdout",
     "output_type": "stream",
     "text": [
      "Epoch 8/10: Train loss=0.7907, acc=0.7494 | Val loss=1.7328, acc=0.5350\n"
     ]
    },
    {
     "name": "stderr",
     "output_type": "stream",
     "text": [
      "Training: 100%|██████████| 145/145 [01:26<00:00,  1.67it/s]\n"
     ]
    },
    {
     "name": "stdout",
     "output_type": "stream",
     "text": [
      "Epoch 9/10: Train loss=0.7784, acc=0.7505 | Val loss=1.7208, acc=0.5388\n"
     ]
    },
    {
     "name": "stderr",
     "output_type": "stream",
     "text": [
      "Training: 100%|██████████| 145/145 [01:27<00:00,  1.65it/s]\n"
     ]
    },
    {
     "name": "stdout",
     "output_type": "stream",
     "text": [
      "Epoch 10/10: Train loss=0.7736, acc=0.7549 | Val loss=1.7182, acc=0.5415\n"
     ]
    },
    {
     "name": "stderr",
     "output_type": "stream",
     "text": [
      "Training: 100%|██████████| 145/145 [01:27<00:00,  1.66it/s]\n"
     ]
    },
    {
     "name": "stdout",
     "output_type": "stream",
     "text": [
      "Epoch 11/10: Train loss=0.7695, acc=0.7565 | Val loss=1.7248, acc=0.5388\n"
     ]
    },
    {
     "name": "stderr",
     "output_type": "stream",
     "text": [
      "Training: 100%|██████████| 145/145 [01:27<00:00,  1.65it/s]\n"
     ]
    },
    {
     "name": "stdout",
     "output_type": "stream",
     "text": [
      "Epoch 12/10: Train loss=0.7678, acc=0.7553 | Val loss=1.7169, acc=0.5409\n"
     ]
    },
    {
     "name": "stderr",
     "output_type": "stream",
     "text": [
      "Training: 100%|██████████| 145/145 [01:27<00:00,  1.67it/s]\n"
     ]
    },
    {
     "name": "stdout",
     "output_type": "stream",
     "text": [
      "Epoch 13/10: Train loss=0.7643, acc=0.7547 | Val loss=1.7250, acc=0.5415\n"
     ]
    },
    {
     "name": "stderr",
     "output_type": "stream",
     "text": [
      "Training: 100%|██████████| 145/145 [01:27<00:00,  1.66it/s]\n"
     ]
    },
    {
     "name": "stdout",
     "output_type": "stream",
     "text": [
      "Epoch 14/10: Train loss=0.7599, acc=0.7566 | Val loss=1.7218, acc=0.5409\n"
     ]
    },
    {
     "name": "stderr",
     "output_type": "stream",
     "text": [
      "Training: 100%|██████████| 145/145 [01:27<00:00,  1.66it/s]\n"
     ]
    },
    {
     "name": "stdout",
     "output_type": "stream",
     "text": [
      "Epoch 15/10: Train loss=0.7584, acc=0.7582 | Val loss=1.7198, acc=0.5393\n"
     ]
    },
    {
     "name": "stderr",
     "output_type": "stream",
     "text": [
      "Training: 100%|██████████| 145/145 [01:26<00:00,  1.67it/s]\n"
     ]
    },
    {
     "name": "stdout",
     "output_type": "stream",
     "text": [
      "Epoch 16/10: Train loss=0.7612, acc=0.7566 | Val loss=1.7233, acc=0.5420\n"
     ]
    },
    {
     "name": "stderr",
     "output_type": "stream",
     "text": [
      "Training: 100%|██████████| 145/145 [01:27<00:00,  1.66it/s]\n"
     ]
    },
    {
     "name": "stdout",
     "output_type": "stream",
     "text": [
      "Epoch 17/10: Train loss=0.7604, acc=0.7598 | Val loss=1.7201, acc=0.5404\n"
     ]
    },
    {
     "name": "stderr",
     "output_type": "stream",
     "text": [
      "Training: 100%|██████████| 145/145 [01:27<00:00,  1.65it/s]\n"
     ]
    },
    {
     "name": "stdout",
     "output_type": "stream",
     "text": [
      "Epoch 18/10: Train loss=0.7554, acc=0.7637 | Val loss=1.7150, acc=0.5426\n"
     ]
    },
    {
     "name": "stderr",
     "output_type": "stream",
     "text": [
      "Training: 100%|██████████| 145/145 [01:27<00:00,  1.66it/s]\n"
     ]
    },
    {
     "name": "stdout",
     "output_type": "stream",
     "text": [
      "Epoch 19/10: Train loss=0.7519, acc=0.7632 | Val loss=1.7258, acc=0.5463\n"
     ]
    },
    {
     "name": "stderr",
     "output_type": "stream",
     "text": [
      "Training: 100%|██████████| 145/145 [01:27<00:00,  1.65it/s]\n"
     ]
    },
    {
     "name": "stdout",
     "output_type": "stream",
     "text": [
      "Epoch 20/10: Train loss=0.7508, acc=0.7595 | Val loss=1.7225, acc=0.5399\n"
     ]
    },
    {
     "name": "stderr",
     "output_type": "stream",
     "text": [
      "Training: 100%|██████████| 145/145 [01:27<00:00,  1.66it/s]\n"
     ]
    },
    {
     "name": "stdout",
     "output_type": "stream",
     "text": [
      "Epoch 21/10: Train loss=0.7503, acc=0.7629 | Val loss=1.7242, acc=0.5377\n"
     ]
    },
    {
     "name": "stderr",
     "output_type": "stream",
     "text": [
      "Training: 100%|██████████| 145/145 [01:27<00:00,  1.66it/s]\n"
     ]
    },
    {
     "name": "stdout",
     "output_type": "stream",
     "text": [
      "Epoch 22/10: Train loss=0.7531, acc=0.7608 | Val loss=1.7155, acc=0.5426\n"
     ]
    },
    {
     "name": "stderr",
     "output_type": "stream",
     "text": [
      "Training: 100%|██████████| 145/145 [01:26<00:00,  1.68it/s]\n"
     ]
    },
    {
     "name": "stdout",
     "output_type": "stream",
     "text": [
      "Epoch 23/10: Train loss=0.7552, acc=0.7610 | Val loss=1.7219, acc=0.5404\n"
     ]
    },
    {
     "name": "stderr",
     "output_type": "stream",
     "text": [
      "Training: 100%|██████████| 145/145 [01:27<00:00,  1.66it/s]\n"
     ]
    },
    {
     "name": "stdout",
     "output_type": "stream",
     "text": [
      "Epoch 24/10: Train loss=0.7508, acc=0.7607 | Val loss=1.7168, acc=0.5393\n"
     ]
    },
    {
     "name": "stderr",
     "output_type": "stream",
     "text": [
      "Training: 100%|██████████| 145/145 [01:27<00:00,  1.65it/s]\n"
     ]
    },
    {
     "name": "stdout",
     "output_type": "stream",
     "text": [
      "Epoch 25/10: Train loss=0.7566, acc=0.7598 | Val loss=1.7199, acc=0.5404\n"
     ]
    },
    {
     "name": "stderr",
     "output_type": "stream",
     "text": [
      "Training: 100%|██████████| 145/145 [01:26<00:00,  1.67it/s]\n"
     ]
    },
    {
     "name": "stdout",
     "output_type": "stream",
     "text": [
      "Epoch 26/10: Train loss=0.7616, acc=0.7572 | Val loss=1.7222, acc=0.5426\n"
     ]
    },
    {
     "name": "stderr",
     "output_type": "stream",
     "text": [
      "Training: 100%|██████████| 145/145 [01:27<00:00,  1.67it/s]\n"
     ]
    },
    {
     "name": "stdout",
     "output_type": "stream",
     "text": [
      "Epoch 27/10: Train loss=0.7524, acc=0.7615 | Val loss=1.7119, acc=0.5409\n"
     ]
    },
    {
     "name": "stderr",
     "output_type": "stream",
     "text": [
      "Training: 100%|██████████| 145/145 [01:27<00:00,  1.66it/s]\n"
     ]
    },
    {
     "name": "stdout",
     "output_type": "stream",
     "text": [
      "Epoch 28/10: Train loss=0.7520, acc=0.7631 | Val loss=1.7154, acc=0.5399\n"
     ]
    },
    {
     "name": "stderr",
     "output_type": "stream",
     "text": [
      "Training: 100%|██████████| 145/145 [01:27<00:00,  1.65it/s]\n"
     ]
    },
    {
     "name": "stdout",
     "output_type": "stream",
     "text": [
      "Epoch 29/10: Train loss=0.7457, acc=0.7654 | Val loss=1.7167, acc=0.5404\n"
     ]
    },
    {
     "name": "stderr",
     "output_type": "stream",
     "text": [
      "Training: 100%|██████████| 145/145 [01:26<00:00,  1.67it/s]\n"
     ]
    },
    {
     "name": "stdout",
     "output_type": "stream",
     "text": [
      "Epoch 30/10: Train loss=0.7559, acc=0.7604 | Val loss=1.7124, acc=0.5361\n"
     ]
    }
   ],
   "source": [
    "best_val_acc = 0.0\n",
    "for epoch in range(30):\n",
    "    train_loss, train_acc = train_epoch(model, train_loader, criterion, optimizer, device)\n",
    "    val_loss, val_acc = eval_epoch(model, val_loader, criterion, device)\n",
    "    scheduler.step()\n",
    "\n",
    "    print(f\"Epoch {epoch+1}/10: Train loss={train_loss:.4f}, acc={train_acc:.4f} | Val loss={val_loss:.4f}, acc={val_acc:.4f}\")\n",
    "    \n",
    "    # Zapis najlepszego modelu\n",
    "    if val_acc > best_val_acc:\n",
    "        best_val_acc = val_acc\n",
    "        torch.save(model.state_dict(), \"best_model.pt\")"
   ]
  },
  {
   "cell_type": "code",
   "execution_count": 197,
   "id": "1386c73b-7640-4cef-bd4b-ad37d975c7c8",
   "metadata": {},
   "outputs": [
    {
     "name": "stdout",
     "output_type": "stream",
     "text": [
      "\n",
      "Accuracy: 56.10%\n"
     ]
    }
   ],
   "source": [
    "# Ewaluacja\n",
    "model.load_state_dict(torch.load(\"best_model.pt\"))\n",
    "model.eval()\n",
    "_, test_acc = eval_epoch(model, test_loader, criterion, device)\n",
    "print(f\"\\nAccuracy: {test_acc * 100:.2f}%\")"
   ]
  },
  {
   "cell_type": "code",
   "execution_count": null,
   "id": "43a3da9f-62a2-40e6-9e3e-ca7049462836",
   "metadata": {},
   "outputs": [],
   "source": []
  }
 ],
 "metadata": {
  "kernelspec": {
   "display_name": "Python (monai_hface_acc)",
   "language": "python",
   "name": "monai_hface_accelerate"
  },
  "language_info": {
   "codemirror_mode": {
    "name": "ipython",
    "version": 3
   },
   "file_extension": ".py",
   "mimetype": "text/x-python",
   "name": "python",
   "nbconvert_exporter": "python",
   "pygments_lexer": "ipython3",
   "version": "3.11.3"
  }
 },
 "nbformat": 4,
 "nbformat_minor": 5
}
