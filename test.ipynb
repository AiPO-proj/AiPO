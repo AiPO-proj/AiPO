{
 "cells": [
  {
   "cell_type": "code",
   "execution_count": 1,
   "id": "6468aa1e",
   "metadata": {},
   "outputs": [],
   "source": [
    "from tekstoinator import extract_text_from_video\n",
    "\n",
    "data = extract_text_from_video(\"./input/video.mp4\", frame_interval=25)"
   ]
  },
  {
   "cell_type": "code",
   "execution_count": 2,
   "id": "b2a5cf0d",
   "metadata": {},
   "outputs": [
    {
     "name": "stdout",
     "output_type": "stream",
     "text": [
      "['98 POKA', 'PORT LOTNICZY', 'ZAMOTE', 'VL.CHEMICZNA', 'RABE', 'ONALD', 'NALDS', 'CHEŁM', 'URGEK', 'CZAS]', 'RABON', 'CHOŁM', 'CZAS', 'PYSZNEPL', '[RABEN', '[CHOLM', 'UL;CHEMICZNA', 'RAHEN', 'BURGER', 'ABEN', 'PORT LOTNICRY_', 'OBNODNICA', '3DBEN', 'CZASWA', 'BURGE', 'CHOLM', 'WYINLE', 'MOJDON', 'IATAN', 'ICZY', 'CZASAA', 'BURGERI', 'HABEN', 'MYIPLE', 'CZASW', 'BURGERA', 'ZAMOIC', 'ZAMOSC', 'RABER', 'RABEN']\n"
     ]
    }
   ],
   "source": [
    "print(data)"
   ]
  }
 ],
 "metadata": {
  "kernelspec": {
   "display_name": "obrazy-env",
   "language": "python",
   "name": "python3"
  },
  "language_info": {
   "codemirror_mode": {
    "name": "ipython",
    "version": 3
   },
   "file_extension": ".py",
   "mimetype": "text/x-python",
   "name": "python",
   "nbconvert_exporter": "python",
   "pygments_lexer": "ipython3",
   "version": "3.11.2"
  }
 },
 "nbformat": 4,
 "nbformat_minor": 5
}
